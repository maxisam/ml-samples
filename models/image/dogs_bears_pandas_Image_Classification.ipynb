{
 "cells": [
  {
   "cell_type": "markdown",
   "metadata": {
    "colab_type": "text",
    "id": "euvlUrzjx--w"
   },
   "source": [
    "### Steps to be executed:\n",
    "\n",
    "1) Fazer uma lista de arquivos com URL das seguintes imagens:\n",
    " - Teddy bear\n",
    " - Black Bear\n",
    " - Grizzly\n",
    "\n",
    "Usar o Google Images com o seguinte comando:\n",
    "\n",
    "> Cmd Opt J\n",
    "\n",
    "> urls = Array.from(document.querySelectorAll('.rg_di .rg_meta')).map(el=>JSON.parse(el.textContext).ou);\n",
    "\n",
    "> window.open('data:text/csv;charset=utf-8,' + escape(urls.join('\\n')));\n",
    "\n",
    "Esses comandos irão fazer o downloado das imagens em um arquivo CSV.\n",
    "\n",
    "2) Usando Tensorflow, crie um dataset com esses caminhos e uma função de transformação para fazer o download dessa imagem e depois redimensionar.\n",
    "\n",
    "Crie também os labels para cada imagem. Se usar o ImageGenerator, já fazer o split para treinamento, validação e teste.\n",
    "\n",
    "Garantir que sempre teremos o mesmo Validation Set. Isso é importante para sempre termos o mesmo conjunto de validação e determinar se mudanças no modelo afetam a qualidade na validação. \n",
    "\n",
    "3) Limpar o Dataset para possíveis imagens corrompidas ou arquivos que não são imagens.\n",
    "\n",
    "4) Análise do Dataset\n",
    " - Mostra quantos exemplos existe para cada dataset\n",
    " - Plota alguns exemplos para termos base de comparação\n",
    "\n",
    "Neste ponto já temos o Dataset de treinamento e Validação criados e prontos para serem treinados.\n",
    "\n",
    "5) Model Creation: Importar o ResNet50V2 com weights do ImageNet.\n",
    " - Compilar com o Optimizer, Loss corretos.\n",
    " - Criar uma função de Callback para analisar dinamicamente o Learning Rate.\n",
    "  - Rodar o FIT por 10 epochs e chegar no melhor LR.\n",
    " - Treinar com FIT no melhor epoch.\n",
    "\n",
    "6) Plotar qual foi a performance de treinamento. SAVE and LOAD models.\n",
    " - Salvar o modelo de duas maneiras (arquivo H5 e checkpoint). Qual a vantagem de usar um ou outro? Qual eu posso recuperar tanto a arquitetura quanto weights? Como eu posso continuar treinando?\n",
    "\n",
    "7) Determinar quantas camadas (layers) existem na rede. Fazer UNFREEZE das camadas e refazer o treinamento agora com mais weights em jogo.\n",
    "\n",
    "8) Usar alguns exemplos com PREDICT para ver se realmente está correto o modelo.\n",
    " - Plotar uma confusion_matrix.\n",
    " - Pelo Confusion Matrix, determinar se determinada imagem é \"noisy\" ou não.\n",
    " - Determinar os \"top losses\".\n",
    " - Deletar os exemplos no dataset de Treino e Validação.\n",
    "\n",
    "9) Assim como no MOOC, criar um backpropagation usando GradientTapes (PyTorch é MUITO mais fácil)"
   ]
  },
  {
   "cell_type": "markdown",
   "metadata": {
    "colab_type": "text",
    "id": "s6GlPKtIiWtN"
   },
   "source": [
    "# Questões sobre Tensorflow\n",
    "\n",
    "1) Quais operações podemos fazer com Tensors? Existe a operação de index, element access, dimensions, etc.?\n",
    " - Explorar ao máximo o que são esses conceitos no Tensorflow.\n",
    " - Como faço operações de alteração no Tensor? Substituição implace? Ou retorno?\n",
    "\n",
    "2) Como calcular o LOSS function no Tensorflow? Quais funções de LOSS estão disponíveis?"
   ]
  },
  {
   "cell_type": "markdown",
   "metadata": {
    "colab_type": "text",
    "id": "UbgACpCrIa4u"
   },
   "source": [
    "# Tensorflow Version of Lesson 2"
   ]
  },
  {
   "cell_type": "code",
   "execution_count": null,
   "metadata": {
    "colab": {
     "base_uri": "https://localhost:8080/",
     "height": 34
    },
    "colab_type": "code",
    "executionInfo": {
     "elapsed": 1745,
     "status": "ok",
     "timestamp": 1581163668910,
     "user": {
      "displayName": "Renato Leite",
      "photoUrl": "https://lh3.googleusercontent.com/a-/AAuE7mCcpGTVtWJSJsdfArIod76mBazk0Z-3wTxm3KyO=s64",
      "userId": "15440836296443467523"
     },
     "user_tz": 180
    },
    "id": "eUJCxfVjIe-l",
    "outputId": "5f0df28e-afba-46de-de49-7c879ff4b8a0"
   },
   "outputs": [
    {
     "name": "stdout",
     "output_type": "stream",
     "text": [
      "TensorFlow 2.x selected.\n"
     ]
    }
   ],
   "source": [
    "%tensorflow_version 2.x"
   ]
  },
  {
   "cell_type": "code",
   "execution_count": null,
   "metadata": {
    "colab": {},
    "colab_type": "code",
    "id": "0cvCSEGaIzyr"
   },
   "outputs": [],
   "source": [
    "# Import Tensorflow\n",
    "import tensorflow as tf"
   ]
  },
  {
   "cell_type": "code",
   "execution_count": null,
   "metadata": {
    "colab": {},
    "colab_type": "code",
    "id": "mfQCwkZkMbuk"
   },
   "outputs": [],
   "source": [
    "AUTOTUNE = tf.data.experimental.AUTOTUNE"
   ]
  },
  {
   "cell_type": "code",
   "execution_count": null,
   "metadata": {
    "colab": {},
    "colab_type": "code",
    "id": "vEuO1_HPI1qa"
   },
   "outputs": [],
   "source": [
    "# Other imports\n",
    "import numpy as np\n",
    "import matplotlib.pyplot as plt\n",
    "\n",
    "import os\n",
    "import pandas as pd\n",
    "\n",
    "import pathlib"
   ]
  },
  {
   "cell_type": "code",
   "execution_count": null,
   "metadata": {
    "colab": {},
    "colab_type": "code",
    "id": "Xk_VmujbJKvL"
   },
   "outputs": [],
   "source": [
    "# URLs for download\n",
    "black = 'https://drive.google.com/uc?id=1ampU2pBFu1iZYA-F8XsxH1R4EvICZYFZ'\n",
    "grizzly = 'https://drive.google.com/uc?id=1nye6A_2t9Y1aBkWoHh8XN3NhW5hZ3Sq2'\n",
    "teddy = 'https://drive.google.com/uc?id=1WklQaY76VeO-NH_pO8EJ18vkRvBEglJF'"
   ]
  },
  {
   "cell_type": "code",
   "execution_count": null,
   "metadata": {
    "colab": {},
    "colab_type": "code",
    "id": "goQLFrTGLXKX"
   },
   "outputs": [],
   "source": [
    "classes = ['black','grizzly', 'teddy']\n",
    "parent_dir = '/content'"
   ]
  },
  {
   "cell_type": "code",
   "execution_count": null,
   "metadata": {
    "colab": {},
    "colab_type": "code",
    "id": "PEpteiO1MS-J"
   },
   "outputs": [],
   "source": [
    "# Get csv files with URLs to download\n",
    "!wget https://drive.google.com/uc?id=1ampU2pBFu1iZYA-F8XsxH1R4EvICZYFZ -O black.csv\n",
    "!wget https://drive.google.com/uc?id=1nye6A_2t9Y1aBkWoHh8XN3NhW5hZ3Sq2 -O grizzly.csv\n",
    "!wget https://drive.google.com/uc?id=1WklQaY76VeO-NH_pO8EJ18vkRvBEglJF -O teddy.csv"
   ]
  },
  {
   "cell_type": "code",
   "execution_count": null,
   "metadata": {
    "colab": {},
    "colab_type": "code",
    "id": "yEJvOhR-O-qs"
   },
   "outputs": [],
   "source": [
    "# Create folders and save paths\n",
    "paths = {}\n",
    "\n",
    "for i in range(len(classes)):\n",
    "    paths[classes[i]] = os.path.join(parent_dir, classes[i])\n",
    "    os.mkdir(paths[classes[i]])"
   ]
  },
  {
   "cell_type": "code",
   "execution_count": null,
   "metadata": {
    "colab": {},
    "colab_type": "code",
    "id": "MQ0H1OEs0WSa"
   },
   "outputs": [],
   "source": [
    "df_black = pd.read_csv('/content/black.csv', index_col=None, header=None)\n",
    "df_grizzly = pd.read_csv('/content/grizzly.csv', index_col=None, header=None)\n",
    "df_teddy = pd.read_csv('/content/teddy.csv', index_col=None, header=None)"
   ]
  },
  {
   "cell_type": "code",
   "execution_count": null,
   "metadata": {
    "colab": {},
    "colab_type": "code",
    "id": "r_aFIiY00ffT"
   },
   "outputs": [],
   "source": [
    "# Download Black Bear images\n",
    "for i in range(len(df_black[0])):\n",
    "    fname = paths['black'] + '/black_' + str(i) + '.jpg';\n",
    "    tf.keras.utils.get_file(fname = fname, origin=df_black[0][i]);"
   ]
  },
  {
   "cell_type": "code",
   "execution_count": null,
   "metadata": {
    "colab": {},
    "colab_type": "code",
    "id": "wQCso-zE6BRb"
   },
   "outputs": [],
   "source": [
    "# Download Grizzly Bear images\n",
    "for i in range(len(df_grizzly[0])):\n",
    "    fname = paths['grizzly'] + '/grizzly_' + str(i) + '.jpg';\n",
    "    tf.keras.utils.get_file(fname = fname, origin=df_grizzly[0][i]);"
   ]
  },
  {
   "cell_type": "code",
   "execution_count": null,
   "metadata": {
    "colab": {},
    "colab_type": "code",
    "id": "VZK9ZLwU6hPS"
   },
   "outputs": [],
   "source": [
    "# Download Teddy Bear images\n",
    "for i in range(len(df_teddy[0])):\n",
    "    fname = paths['teddy'] + '/teddy_' + str(i) + '.jpg';\n",
    "    tf.keras.utils.get_file(fname = fname, origin=df_teddy[0][i]);"
   ]
  },
  {
   "cell_type": "code",
   "execution_count": null,
   "metadata": {
    "colab": {},
    "colab_type": "code",
    "id": "J8YyBLNGAlI4"
   },
   "outputs": [],
   "source": [
    "os.mkdir('/content/images')"
   ]
  },
  {
   "cell_type": "code",
   "execution_count": null,
   "metadata": {
    "colab": {},
    "colab_type": "code",
    "id": "8m0aaQ2vA3h9"
   },
   "outputs": [],
   "source": [
    "!mv -v /content/black/ /content/images/\n",
    "!mv -v /content/grizzly/ /content/images/\n",
    "!mv -v /content/teddy/ /content/images/"
   ]
  },
  {
   "cell_type": "code",
   "execution_count": null,
   "metadata": {
    "colab": {},
    "colab_type": "code",
    "id": "ykkjFmC9uf3I"
   },
   "outputs": [],
   "source": [
    "BATCH_SIZE = 32\n",
    "IMG_HEIGHT = 224\n",
    "IMG_WIDTH = 224\n",
    "CLASS_NAMES = ['grizzly', 'black', 'teddy']"
   ]
  },
  {
   "cell_type": "code",
   "execution_count": null,
   "metadata": {
    "colab": {},
    "colab_type": "code",
    "id": "jDYXAqzUzGtX"
   },
   "outputs": [],
   "source": [
    "def show_batch(image_batch, label_batch):\n",
    "  plt.figure(figsize=(10,10))\n",
    "  for n in range(25):\n",
    "      ax = plt.subplot(5,5,n+1)\n",
    "      plt.imshow(image_batch[n])\n",
    "      plt.title(CLASS_NAMES[list(label_batch[n] == 1).index(1)])\n",
    "      plt.axis('off')"
   ]
  },
  {
   "cell_type": "code",
   "execution_count": null,
   "metadata": {
    "colab": {},
    "colab_type": "code",
    "id": "yxWjXyi3LmWf"
   },
   "outputs": [],
   "source": [
    "data_dir = pathlib.Path('/content/images')"
   ]
  },
  {
   "cell_type": "code",
   "execution_count": null,
   "metadata": {
    "colab": {},
    "colab_type": "code",
    "id": "mQohmflONF9A"
   },
   "outputs": [],
   "source": [
    "# Get list with file paths\n",
    "list_ds = tf.data.Dataset.list_files(str(data_dir/'*/*'))"
   ]
  },
  {
   "cell_type": "code",
   "execution_count": null,
   "metadata": {
    "colab": {},
    "colab_type": "code",
    "id": "icySEwN-o0A7"
   },
   "outputs": [],
   "source": [
    "# Function to get label\n",
    "def get_label(file_path):\n",
    "    parts = tf.strings.split(file_path, os.path.sep)\n",
    "    return parts[-2] == CLASS_NAMES"
   ]
  },
  {
   "cell_type": "code",
   "execution_count": null,
   "metadata": {
    "colab": {},
    "colab_type": "code",
    "id": "LHcnlk4qYvQG"
   },
   "outputs": [],
   "source": [
    "# Function to decode Image\n",
    "def decode_image(img):\n",
    "    img = tf.io.decode_jpeg(img, channels=3)\n",
    "    img = tf.image.convert_image_dtype(img, tf.float32)\n",
    "    return tf.image.resize(img, [IMG_WIDTH, IMG_HEIGHT])"
   ]
  },
  {
   "cell_type": "code",
   "execution_count": null,
   "metadata": {
    "colab": {},
    "colab_type": "code",
    "id": "EDgUou4Upp9s"
   },
   "outputs": [],
   "source": [
    "# Function to use in MAP Dataset\n",
    "def process_path(file_path):\n",
    "    label = get_label(file_path)\n",
    "    img = tf.io.read_file(file_path)\n",
    "    img = decode_image(img)\n",
    "\n",
    "    return img, label"
   ]
  },
  {
   "cell_type": "code",
   "execution_count": null,
   "metadata": {
    "colab": {},
    "colab_type": "code",
    "id": "XsBE6mc3qGKp"
   },
   "outputs": [],
   "source": [
    "labeled_ds = list_ds.map(process_path, num_parallel_calls=AUTOTUNE)"
   ]
  },
  {
   "cell_type": "code",
   "execution_count": null,
   "metadata": {
    "colab": {},
    "colab_type": "code",
    "id": "BoGHuN-MrGxy"
   },
   "outputs": [],
   "source": [
    "for image, label in labeled_ds.take(1):\n",
    "    print(image.numpy().shape)\n",
    "    print(label.numpy())"
   ]
  },
  {
   "cell_type": "code",
   "execution_count": null,
   "metadata": {
    "colab": {},
    "colab_type": "code",
    "id": "hjpxfOiKrSlM"
   },
   "outputs": [],
   "source": [
    "def prepare_for_training(ds, cache=True, shuffle_buffer_size=1000):\n",
    "    if cache:\n",
    "        if isinstance(cache, str):\n",
    "            ds = ds.cache(cache)\n",
    "        else:\n",
    "            ds = ds.cache()\n",
    "    \n",
    "    ds = ds.shuffle(buffer_size=shuffle_buffer_size)\n",
    "    ds = ds.repeat()\n",
    "    ds = ds.batch(BATCH_SIZE)\n",
    "    ds = ds.prefetch(buffer_size=AUTOTUNE)\n",
    "\n",
    "    return ds"
   ]
  },
  {
   "cell_type": "code",
   "execution_count": null,
   "metadata": {
    "colab": {},
    "colab_type": "code",
    "id": "P0Ql8hXDsPkr"
   },
   "outputs": [],
   "source": [
    "train_ds = prepare_for_training(labeled_ds)\n",
    "image_batch, label_batch = next(iter(train_ds))\n",
    "show_batch(image_batch.numpy(), label_batch.numpy())"
   ]
  },
  {
   "cell_type": "code",
   "execution_count": null,
   "metadata": {
    "colab": {},
    "colab_type": "code",
    "id": "_aBs5cbisr54"
   },
   "outputs": [],
   "source": [
    "# Split for Training and Validation\n",
    "train_split = train_ds.skip(100)\n",
    "test_split = train_ds.take(100)"
   ]
  },
  {
   "cell_type": "code",
   "execution_count": null,
   "metadata": {
    "colab": {},
    "colab_type": "code",
    "id": "CyRMD7Qh6qSl"
   },
   "outputs": [],
   "source": [
    "IMG_SHAPE = (IMG_HEIGHT, IMG_WIDTH, 3)"
   ]
  },
  {
   "cell_type": "code",
   "execution_count": null,
   "metadata": {
    "colab": {},
    "colab_type": "code",
    "id": "EI23i4wl6EFy"
   },
   "outputs": [],
   "source": [
    "base_model = tf.keras.applications.ResNet50V2(input_shape=IMG_SHAPE,\n",
    "                                              include_top=False,\n",
    "                                              weights='imagenet')"
   ]
  },
  {
   "cell_type": "code",
   "execution_count": null,
   "metadata": {
    "colab": {},
    "colab_type": "code",
    "id": "5kBZYZky7JIT"
   },
   "outputs": [],
   "source": [
    "base_model.trainable = False"
   ]
  },
  {
   "cell_type": "code",
   "execution_count": null,
   "metadata": {
    "colab": {},
    "colab_type": "code",
    "id": "r3gfU6Cs65dl"
   },
   "outputs": [],
   "source": [
    "model = tf.keras.Sequential([\n",
    "    base_model,\n",
    "    tf.keras.layers.Flatten(),\n",
    "    tf.keras.layers.Dense(64, activation='relu', kernel_regularizer=tf.keras.regularizers.l2()),\n",
    "    tf.keras.layers.Dropout(0.2),\n",
    "    tf.keras.layers.Dense(3, activation='softmax')\n",
    "])"
   ]
  },
  {
   "cell_type": "code",
   "execution_count": null,
   "metadata": {
    "colab": {},
    "colab_type": "code",
    "id": "6ShGBfE87yiD"
   },
   "outputs": [],
   "source": [
    "learning_rate = 0.0001\n",
    "\n",
    "model.compile(optimizer=tf.keras.optimizers.Adam(learning_rate=learning_rate),\n",
    "              loss=tf.keras.losses.CategoricalCrossentropy(),\n",
    "              metrics=['accuracy'])"
   ]
  },
  {
   "cell_type": "code",
   "execution_count": null,
   "metadata": {
    "colab": {},
    "colab_type": "code",
    "id": "hs9CpKmPgD4S"
   },
   "outputs": [],
   "source": []
  },
  {
   "cell_type": "code",
   "execution_count": null,
   "metadata": {
    "colab": {},
    "colab_type": "code",
    "id": "ARyKv3d7aVNe"
   },
   "outputs": [],
   "source": [
    "lr_schedule = tf.keras.callbacks.LearningRateScheduler(\n",
    "    lambda epoch: 1e-5 * 10**(epoch / 5))\n",
    "\n",
    "callbacks = [\n",
    "    tf.keras.callbacks.TensorBoard(log_dir='./logs')\n",
    "]"
   ]
  },
  {
   "cell_type": "code",
   "execution_count": null,
   "metadata": {
    "colab": {},
    "colab_type": "code",
    "id": "QvxTCrqZ8RfF"
   },
   "outputs": [],
   "source": [
    "history = model.fit(train_split, epochs=1, validation_data=test_split, \n",
    "                    steps_per_epoch=26, callbacks=callbacks)"
   ]
  },
  {
   "cell_type": "code",
   "execution_count": null,
   "metadata": {
    "colab": {},
    "colab_type": "code",
    "id": "on96F1HJ_U5x"
   },
   "outputs": [],
   "source": [
    "# Load the TensorBoard notebook extension\n",
    "%load_ext tensorboard"
   ]
  },
  {
   "cell_type": "code",
   "execution_count": null,
   "metadata": {
    "colab": {},
    "colab_type": "code",
    "id": "GBGIYWqCqa91"
   },
   "outputs": [],
   "source": [
    "%tensorboard --logdir './logs'"
   ]
  },
  {
   "cell_type": "code",
   "execution_count": null,
   "metadata": {
    "colab": {},
    "colab_type": "code",
    "id": "PY9axvx5cz_C"
   },
   "outputs": [],
   "source": [
    "acc = history.history['accuracy']\n",
    "val_acc = history.history['val_accuracy']\n",
    "loss = history.history['loss']\n",
    "val_loss = history.history['val_loss']\n",
    "\n",
    "epochs = range(len(acc))\n",
    "\n",
    "plt.plot(epochs, acc, 'r', label='Training accuracy')\n",
    "plt.plot(epochs, val_acc, 'b', label='Validation accuracy')\n",
    "plt.title('Training and validation accuracy')\n",
    "plt.legend(loc=0)\n",
    "plt.figure()\n",
    "\n",
    "\n",
    "plt.show()"
   ]
  },
  {
   "cell_type": "code",
   "execution_count": null,
   "metadata": {
    "colab": {},
    "colab_type": "code",
    "id": "MMSKIypSsiIh"
   },
   "outputs": [],
   "source": [
    "!rm -rf logs"
   ]
  },
  {
   "cell_type": "code",
   "execution_count": null,
   "metadata": {
    "colab": {},
    "colab_type": "code",
    "id": "HTAtmYBS09Rh"
   },
   "outputs": [],
   "source": [
    "from datetime import datetime\n",
    "import io\n",
    "import itertools\n",
    "from packaging import version\n",
    "from six.moves import range\n",
    "\n",
    "import matplotlib.pyplot as plt\n",
    "import numpy as np\n",
    "import sklearn.metrics"
   ]
  },
  {
   "cell_type": "code",
   "execution_count": null,
   "metadata": {
    "colab": {},
    "colab_type": "code",
    "id": "9HGkFCfN00bp"
   },
   "outputs": [],
   "source": [
    "logdir = 'logs/train_data/' + datetime.now().strftime(\"%Y%m%d-%H%M%S\")\n",
    "\n",
    "file_writer = tf.summary.create_file_writer(logdir)\n",
    "with file_writer.as_default():\n",
    "    tf.summary.image('Training data', renato, step=0)"
   ]
  },
  {
   "cell_type": "code",
   "execution_count": null,
   "metadata": {
    "colab": {},
    "colab_type": "code",
    "id": "2doDCTjL1eXK"
   },
   "outputs": [],
   "source": [
    "renato = 0\n",
    "for i in train_split.take(1):\n",
    "    renato = i"
   ]
  },
  {
   "cell_type": "code",
   "execution_count": null,
   "metadata": {
    "colab": {},
    "colab_type": "code",
    "id": "nfTzPT_3Gczh"
   },
   "outputs": [],
   "source": [
    "renato = np.reshape(renato[0].numpy()[0], (-1,224,224,3))"
   ]
  },
  {
   "cell_type": "code",
   "execution_count": null,
   "metadata": {
    "colab": {},
    "colab_type": "code",
    "id": "P6aZXvnCIz6_"
   },
   "outputs": [],
   "source": [
    "# Clear out any prior log data.\n",
    "!rm -rf logs"
   ]
  },
  {
   "cell_type": "code",
   "execution_count": null,
   "metadata": {
    "colab": {},
    "colab_type": "code",
    "id": "rvSrBnPNGAuT"
   },
   "outputs": [],
   "source": [
    "%tensorboard --logdir './logs'"
   ]
  },
  {
   "cell_type": "code",
   "execution_count": null,
   "metadata": {
    "colab": {},
    "colab_type": "code",
    "id": "d41ARf3OHrrE"
   },
   "outputs": [],
   "source": [
    "for layer in base_model.layers[:40]:\n",
    "    layer.trainable = False"
   ]
  },
  {
   "cell_type": "code",
   "execution_count": null,
   "metadata": {
    "colab": {},
    "colab_type": "code",
    "id": "Z8CZEohbMLgD"
   },
   "outputs": [],
   "source": [
    "len(model.trainable_variables)"
   ]
  },
  {
   "cell_type": "code",
   "execution_count": null,
   "metadata": {
    "colab": {},
    "colab_type": "code",
    "id": "GbVr_Om8MSyG"
   },
   "outputs": [],
   "source": [
    "model.summary()"
   ]
  },
  {
   "cell_type": "code",
   "execution_count": null,
   "metadata": {
    "colab": {},
    "colab_type": "code",
    "id": "FDrcUjFkMrwZ"
   },
   "outputs": [],
   "source": [
    "len(base_model.layers) + len(model.layers) -1"
   ]
  },
  {
   "cell_type": "code",
   "execution_count": null,
   "metadata": {
    "colab": {},
    "colab_type": "code",
    "id": "gvJEZ4Y2M_LY"
   },
   "outputs": [],
   "source": [
    "checkpoint_path = 'ckp/cp.ckpt'\n",
    "checkpoint_dir = os.path.dirname(checkpoint_path)"
   ]
  },
  {
   "cell_type": "code",
   "execution_count": null,
   "metadata": {
    "colab": {},
    "colab_type": "code",
    "id": "dPLPYVfXdau4"
   },
   "outputs": [],
   "source": [
    "cp_callback = tf.keras.callbacks.ModelCheckpoint(\n",
    "    filepath=checkpoint_path, save_weights_only=True, verbose = 1)"
   ]
  },
  {
   "cell_type": "code",
   "execution_count": null,
   "metadata": {
    "colab": {},
    "colab_type": "code",
    "id": "WmvPnFdrdv08"
   },
   "outputs": [],
   "source": [
    "model.fit(train_split, epochs=3, validation_data=test_split,\n",
    "          callbacks=[cp_callback], steps_per_epoch=26)"
   ]
  },
  {
   "cell_type": "code",
   "execution_count": null,
   "metadata": {
    "colab": {},
    "colab_type": "code",
    "id": "Kg6AgN30eE9K"
   },
   "outputs": [],
   "source": [
    "model_renato = tf.keras.Sequential([\n",
    "    base_model,\n",
    "    tf.keras.layers.Flatten(),\n",
    "    tf.keras.layers.Dense(64, activation='relu', kernel_regularizer=tf.keras.regularizers.l2()),\n",
    "    tf.keras.layers.Dropout(0.2),\n",
    "    tf.keras.layers.Dense(3, activation='softmax')\n",
    "])"
   ]
  },
  {
   "cell_type": "code",
   "execution_count": null,
   "metadata": {
    "colab": {},
    "colab_type": "code",
    "id": "ZcF-uCpWe-FQ"
   },
   "outputs": [],
   "source": [
    "model_renato.load_weights(checkpoint_path)"
   ]
  },
  {
   "cell_type": "markdown",
   "metadata": {
    "colab_type": "text",
    "id": "wkl04aPMfWEL"
   },
   "source": [
    "### Saving the model\n",
    "\n",
    "1) Checkpoint using Callback.ModelCheckPoint\n",
    " - This way we can save the model weights. We must provide the model architecture (same as saved check point) to continue training or making predictions.\n",
    "\n",
    "2) Manually Save Weights\n",
    " - model.save_weights(path)\n",
    " - model.load_weights(path)\n",
    "  - The assumptions remains the same as before.\n",
    "\n",
    "3) Salva TUDO em um arquivo HDF5\n",
    " - Salta tudo, architetura do modelo, weights, configurations for optimizers.\n",
    " - model.save(path.h5)\n",
    " - Use: tf.keras.models.load_model(path.h5)\n",
    "\n",
    "Note that when we specify the extension of the file (h5), we force the keras to save the entire model.\n",
    "\n",
    "4) SavedModel\n",
    " - We just don't specify the extension h5 to the model. Just pass a directory and it will use the SavedModel format.\n",
    " - "
   ]
  },
  {
   "cell_type": "code",
   "execution_count": null,
   "metadata": {
    "colab": {},
    "colab_type": "code",
    "id": "_Xt69kI2fHD3"
   },
   "outputs": [],
   "source": [
    "!mkdir -p saved_model"
   ]
  },
  {
   "cell_type": "code",
   "execution_count": null,
   "metadata": {
    "colab": {},
    "colab_type": "code",
    "id": "ZZ1GVF-ihvmd"
   },
   "outputs": [],
   "source": [
    "model.save('saved_model/my_model')"
   ]
  },
  {
   "cell_type": "code",
   "execution_count": null,
   "metadata": {
    "colab": {},
    "colab_type": "code",
    "id": "aSZjqdX3h1iG"
   },
   "outputs": [],
   "source": [
    "tf.saved_model.save(model, 'saved_model/resnet50/1/')"
   ]
  },
  {
   "cell_type": "code",
   "execution_count": null,
   "metadata": {
    "colab": {},
    "colab_type": "code",
    "id": "iELrZiCgB2xV"
   },
   "outputs": [],
   "source": [
    "img = tf.keras.utils.get_file('/content/img_test.jpg', 'https://www.google.com/url?sa=i&url=https%3A%2F%2Fwww.buildabear.com%2Fred-paw-timeless-teddy%2F026433.html&psig=AOvVaw24F0SqxqXjAS76kT8pRN2R&ust=1581038953305000&source=images&cd=vfe&ved=0CAIQjRxqFwoTCODclJzju-cCFQAAAAAdAAAAABAD')"
   ]
  },
  {
   "cell_type": "code",
   "execution_count": null,
   "metadata": {
    "colab": {},
    "colab_type": "code",
    "id": "hDl1J7r8ICdR"
   },
   "outputs": [],
   "source": [
    "type(img)"
   ]
  },
  {
   "cell_type": "code",
   "execution_count": null,
   "metadata": {
    "colab": {},
    "colab_type": "code",
    "id": "7K151MvAIFVr"
   },
   "outputs": [],
   "source": [
    "!wget https://drive.google.com/uc?id=19NduSROyZjeiyCNNzvpeWV9ShKZ-x6xH -O teddy.jpg"
   ]
  },
  {
   "cell_type": "code",
   "execution_count": null,
   "metadata": {
    "colab": {},
    "colab_type": "code",
    "id": "9VIKnfNgIGr_"
   },
   "outputs": [],
   "source": [
    "img = tf.io.read_file('/content/teddy.jpg')"
   ]
  },
  {
   "cell_type": "code",
   "execution_count": null,
   "metadata": {
    "colab": {},
    "colab_type": "code",
    "id": "7EIl97wtNzFK"
   },
   "outputs": [],
   "source": [
    "type(img)"
   ]
  },
  {
   "cell_type": "code",
   "execution_count": null,
   "metadata": {
    "colab": {},
    "colab_type": "code",
    "id": "wKYFXFkKJvpQ"
   },
   "outputs": [],
   "source": [
    "img = tf.io.decode_jpeg(img, 3)\n",
    "img = tf.image.convert_image_dtype(img, tf.float32)\n",
    "img = tf.image.resize(img, (224,224))"
   ]
  },
  {
   "cell_type": "code",
   "execution_count": null,
   "metadata": {
    "colab": {},
    "colab_type": "code",
    "id": "_JtWnXHqLVTB"
   },
   "outputs": [],
   "source": [
    "img = tf.expand_dims(img, 0)"
   ]
  },
  {
   "cell_type": "code",
   "execution_count": null,
   "metadata": {
    "colab": {},
    "colab_type": "code",
    "id": "96X-z1fVMlff"
   },
   "outputs": [],
   "source": [
    "CLASS_NAMES[np.argmax(model.predict(img))]"
   ]
  },
  {
   "cell_type": "code",
   "execution_count": null,
   "metadata": {
    "colab": {},
    "colab_type": "code",
    "id": "NiEEPTXpNkWl"
   },
   "outputs": [],
   "source": [
    "type(img)"
   ]
  },
  {
   "cell_type": "code",
   "execution_count": null,
   "metadata": {
    "colab": {},
    "colab_type": "code",
    "id": "9HwPUfjmN5ZS"
   },
   "outputs": [],
   "source": [
    "teste = tf.Variable([[[1,2,3]]], tf.int8)"
   ]
  },
  {
   "cell_type": "code",
   "execution_count": null,
   "metadata": {
    "colab": {},
    "colab_type": "code",
    "id": "lubgp179RRlK"
   },
   "outputs": [],
   "source": [
    "type(teste)"
   ]
  },
  {
   "cell_type": "code",
   "execution_count": null,
   "metadata": {
    "colab": {},
    "colab_type": "code",
    "id": "AZmdUU8-RS7I"
   },
   "outputs": [],
   "source": [
    "tf.rank(teste)"
   ]
  },
  {
   "cell_type": "code",
   "execution_count": null,
   "metadata": {
    "colab": {},
    "colab_type": "code",
    "id": "Q9XK0EQEAHdC"
   },
   "outputs": [],
   "source": [
    "tf.executing_eagerly()"
   ]
  },
  {
   "cell_type": "markdown",
   "metadata": {
    "colab_type": "text",
    "id": "Z3EhC39CvQi9"
   },
   "source": [
    "# Custom Training"
   ]
  },
  {
   "cell_type": "code",
   "execution_count": null,
   "metadata": {
    "colab": {
     "base_uri": "https://localhost:8080/",
     "height": 34
    },
    "colab_type": "code",
    "executionInfo": {
     "elapsed": 1234,
     "status": "ok",
     "timestamp": 1581204013873,
     "user": {
      "displayName": "Renato Leite",
      "photoUrl": "https://lh3.googleusercontent.com/a-/AAuE7mCcpGTVtWJSJsdfArIod76mBazk0Z-3wTxm3KyO=s64",
      "userId": "15440836296443467523"
     },
     "user_tz": 180
    },
    "id": "-RmVdxzG2pO_",
    "outputId": "61f95d2e-67da-490d-e81e-4effb819a0a0"
   },
   "outputs": [
    {
     "name": "stdout",
     "output_type": "stream",
     "text": [
      "TensorFlow 2.x selected.\n"
     ]
    }
   ],
   "source": [
    "%tensorflow_version 2.x"
   ]
  },
  {
   "cell_type": "code",
   "execution_count": null,
   "metadata": {
    "colab": {},
    "colab_type": "code",
    "id": "d55Eno_l2xvo"
   },
   "outputs": [],
   "source": [
    "import tensorflow as tf"
   ]
  },
  {
   "cell_type": "code",
   "execution_count": null,
   "metadata": {
    "colab": {},
    "colab_type": "code",
    "id": "6IF83DK620gc"
   },
   "outputs": [],
   "source": [
    "import numpy as np\n",
    "import matplotlib.pyplot as plt"
   ]
  },
  {
   "cell_type": "code",
   "execution_count": null,
   "metadata": {
    "colab": {},
    "colab_type": "code",
    "id": "3PoOyHOtom-u"
   },
   "outputs": [],
   "source": [
    "# Using Numpy Arrays\n",
    "# Mean Squared Error\n",
    "def loss(yhat, y):\n",
    "    return tf.reduce_mean(tf.square(yhat - y))"
   ]
  },
  {
   "cell_type": "code",
   "execution_count": null,
   "metadata": {
    "colab": {},
    "colab_type": "code",
    "id": "RN5BPeIra11r"
   },
   "outputs": [],
   "source": [
    "n=10"
   ]
  },
  {
   "cell_type": "code",
   "execution_count": null,
   "metadata": {
    "colab": {},
    "colab_type": "code",
    "id": "0YCJAqH6FpCo"
   },
   "outputs": [],
   "source": [
    "x = tf.concat([tf.random.uniform([n,1],-1,1), tf.ones([n,1])], 1)\n",
    "a = tf.Variable([[3.],[2.]])"
   ]
  },
  {
   "cell_type": "code",
   "execution_count": null,
   "metadata": {
    "colab": {},
    "colab_type": "code",
    "id": "tRThN05R_9Fq"
   },
   "outputs": [],
   "source": [
    "# Segunda tentativa com 1 parâmetro de a\n",
    "x = tf.random.uniform([n,1],-1,1)\n",
    "a = tf.Variable([[3.]])"
   ]
  },
  {
   "cell_type": "code",
   "execution_count": null,
   "metadata": {
    "colab": {
     "base_uri": "https://localhost:8080/",
     "height": 202
    },
    "colab_type": "code",
    "executionInfo": {
     "elapsed": 410,
     "status": "ok",
     "timestamp": 1581170610664,
     "user": {
      "displayName": "Renato Leite",
      "photoUrl": "https://lh3.googleusercontent.com/a-/AAuE7mCcpGTVtWJSJsdfArIod76mBazk0Z-3wTxm3KyO=s64",
      "userId": "15440836296443467523"
     },
     "user_tz": 180
    },
    "id": "RJ17mt1k-gJB",
    "outputId": "abef9198-9d92-47f4-9338-71856651e48e"
   },
   "outputs": [
    {
     "name": "stdout",
     "output_type": "stream",
     "text": [
      "tf.Tensor(\n",
      "[[ 0.74772644]\n",
      " [-0.72707963]\n",
      " [ 0.8555572 ]\n",
      " [-0.69729614]\n",
      " [ 0.462775  ]\n",
      " [ 0.8218348 ]\n",
      " [-0.37364578]\n",
      " [ 0.37313485]\n",
      " [ 0.6379788 ]\n",
      " [-0.06178117]], shape=(10, 1), dtype=float32)\n"
     ]
    }
   ],
   "source": [
    "print(x)"
   ]
  },
  {
   "cell_type": "code",
   "execution_count": null,
   "metadata": {
    "colab": {
     "base_uri": "https://localhost:8080/",
     "height": 34
    },
    "colab_type": "code",
    "executionInfo": {
     "elapsed": 766,
     "status": "ok",
     "timestamp": 1581170612708,
     "user": {
      "displayName": "Renato Leite",
      "photoUrl": "https://lh3.googleusercontent.com/a-/AAuE7mCcpGTVtWJSJsdfArIod76mBazk0Z-3wTxm3KyO=s64",
      "userId": "15440836296443467523"
     },
     "user_tz": 180
    },
    "id": "MMHf-BtTB9Jv",
    "outputId": "09d1e402-78e4-41a7-a9fe-052b82b74cda"
   },
   "outputs": [
    {
     "name": "stdout",
     "output_type": "stream",
     "text": [
      "<tf.Variable 'Variable:0' shape=(1, 1) dtype=float32, numpy=array([[3.]], dtype=float32)>\n"
     ]
    }
   ],
   "source": [
    "print(a)"
   ]
  },
  {
   "cell_type": "code",
   "execution_count": null,
   "metadata": {
    "colab": {},
    "colab_type": "code",
    "id": "0lYteqWkLRQI"
   },
   "outputs": [],
   "source": [
    "y = tf.add(tf.matmul(x,a), tf.random.uniform([n,1]))"
   ]
  },
  {
   "cell_type": "code",
   "execution_count": null,
   "metadata": {
    "colab": {
     "base_uri": "https://localhost:8080/",
     "height": 218
    },
    "colab_type": "code",
    "executionInfo": {
     "elapsed": 549,
     "status": "ok",
     "timestamp": 1581171987523,
     "user": {
      "displayName": "Renato Leite",
      "photoUrl": "https://lh3.googleusercontent.com/a-/AAuE7mCcpGTVtWJSJsdfArIod76mBazk0Z-3wTxm3KyO=s64",
      "userId": "15440836296443467523"
     },
     "user_tz": 180
    },
    "id": "9M67DqybAm4L",
    "outputId": "1c0c2d38-efd0-425a-96be-7f939060beaf"
   },
   "outputs": [
    {
     "name": "stdout",
     "output_type": "stream",
     "text": [
      "(10, 1)\n",
      "tf.Tensor(\n",
      "[[-0.5728791 ]\n",
      " [ 3.0344272 ]\n",
      " [ 2.2656276 ]\n",
      " [-2.198361  ]\n",
      " [ 0.8416921 ]\n",
      " [ 3.906774  ]\n",
      " [ 1.2642441 ]\n",
      " [-1.2943715 ]\n",
      " [ 1.7936494 ]\n",
      " [ 0.00989008]], shape=(10, 1), dtype=float32)\n"
     ]
    }
   ],
   "source": [
    "print(y.shape)\n",
    "print(y)"
   ]
  },
  {
   "cell_type": "code",
   "execution_count": null,
   "metadata": {
    "colab": {
     "base_uri": "https://localhost:8080/",
     "height": 265
    },
    "colab_type": "code",
    "executionInfo": {
     "elapsed": 690,
     "status": "ok",
     "timestamp": 1581171988865,
     "user": {
      "displayName": "Renato Leite",
      "photoUrl": "https://lh3.googleusercontent.com/a-/AAuE7mCcpGTVtWJSJsdfArIod76mBazk0Z-3wTxm3KyO=s64",
      "userId": "15440836296443467523"
     },
     "user_tz": 180
    },
    "id": "W0jIRw5pM6th",
    "outputId": "c7cce6e4-4671-4013-93d2-1445ad956be7"
   },
   "outputs": [
    {
     "data": {
      "image/png": "[encoded data removed]",
      "text/plain": [
       "<Figure size 432x288 with 1 Axes>"
      ]
     },
     "metadata": {
      "tags": []
     },
     "output_type": "display_data"
    }
   ],
   "source": [
    "plt.scatter(x[:,0], y);"
   ]
  },
  {
   "cell_type": "code",
   "execution_count": null,
   "metadata": {
    "colab": {},
    "colab_type": "code",
    "id": "5b21RlFnNEJR"
   },
   "outputs": [],
   "source": [
    "a = tf.Variable([[-1.]])\n",
    "y_hat = tf.matmul(x,a)"
   ]
  },
  {
   "cell_type": "code",
   "execution_count": null,
   "metadata": {
    "colab": {
     "base_uri": "https://localhost:8080/",
     "height": 265
    },
    "colab_type": "code",
    "executionInfo": {
     "elapsed": 650,
     "status": "ok",
     "timestamp": 1581170613996,
     "user": {
      "displayName": "Renato Leite",
      "photoUrl": "https://lh3.googleusercontent.com/a-/AAuE7mCcpGTVtWJSJsdfArIod76mBazk0Z-3wTxm3KyO=s64",
      "userId": "15440836296443467523"
     },
     "user_tz": 180
    },
    "id": "gbSLBeD8bYDP",
    "outputId": "1df75642-56bb-4c3a-8bc0-407711c66d17"
   },
   "outputs": [
    {
     "data": {
      "image/png": "[encoded data removed]",
      "text/plain": [
       "<Figure size 432x288 with 1 Axes>"
      ]
     },
     "metadata": {
      "tags": []
     },
     "output_type": "display_data"
    }
   ],
   "source": [
    "plt.scatter(x[:,0], y);\n",
    "plt.scatter(x[:,0], y_hat);"
   ]
  },
  {
   "cell_type": "code",
   "execution_count": null,
   "metadata": {
    "colab": {
     "base_uri": "https://localhost:8080/",
     "height": 34
    },
    "colab_type": "code",
    "executionInfo": {
     "elapsed": 953,
     "status": "ok",
     "timestamp": 1581170615043,
     "user": {
      "displayName": "Renato Leite",
      "photoUrl": "https://lh3.googleusercontent.com/a-/AAuE7mCcpGTVtWJSJsdfArIod76mBazk0Z-3wTxm3KyO=s64",
      "userId": "15440836296443467523"
     },
     "user_tz": 180
    },
    "id": "8UtG_y-mX9VH",
    "outputId": "527874ef-767c-411a-c0b9-11fb07342dec"
   },
   "outputs": [
    {
     "name": "stdout",
     "output_type": "stream",
     "text": [
      "tf.Tensor(7.436952, shape=(), dtype=float32)\n"
     ]
    }
   ],
   "source": [
    "print(loss(y_hat, y))"
   ]
  },
  {
   "cell_type": "code",
   "execution_count": null,
   "metadata": {
    "colab": {},
    "colab_type": "code",
    "id": "A63sXU0FYDni"
   },
   "outputs": [],
   "source": [
    "x = tf.Variable(y_hat - y)\n",
    "with tf.GradientTape() as tape:\n",
    "    l = tf.reduce_mean(tf.square(x))"
   ]
  },
  {
   "cell_type": "code",
   "execution_count": null,
   "metadata": {
    "colab": {},
    "colab_type": "code",
    "id": "Eu2U0H-oJmUs"
   },
   "outputs": [],
   "source": [
    "grad = tape.gradient(l, x)"
   ]
  },
  {
   "cell_type": "code",
   "execution_count": null,
   "metadata": {
    "colab": {
     "base_uri": "https://localhost:8080/",
     "height": 202
    },
    "colab_type": "code",
    "executionInfo": {
     "elapsed": 514,
     "status": "ok",
     "timestamp": 1581170618672,
     "user": {
      "displayName": "Renato Leite",
      "photoUrl": "https://lh3.googleusercontent.com/a-/AAuE7mCcpGTVtWJSJsdfArIod76mBazk0Z-3wTxm3KyO=s64",
      "userId": "15440836296443467523"
     },
     "user_tz": 180
    },
    "id": "myICb8vb0ogm",
    "outputId": "f55d4b73-19bb-491e-ceae-3cd3bc99a443"
   },
   "outputs": [
    {
     "name": "stdout",
     "output_type": "stream",
     "text": [
      "tf.Tensor(\n",
      "[[-0.6736862 ]\n",
      " [ 0.4180568 ]\n",
      " [-0.81260127]\n",
      " [ 0.47774053]\n",
      " [-0.45443687]\n",
      " [-0.7981587 ]\n",
      " [ 0.25803468]\n",
      " [-0.40090972]\n",
      " [-0.6097829 ]\n",
      " [-0.12199912]], shape=(10, 1), dtype=float32)\n"
     ]
    }
   ],
   "source": [
    "print(grad)"
   ]
  },
  {
   "cell_type": "code",
   "execution_count": null,
   "metadata": {
    "colab": {
     "base_uri": "https://localhost:8080/",
     "height": 202
    },
    "colab_type": "code",
    "executionInfo": {
     "elapsed": 532,
     "status": "ok",
     "timestamp": 1581170622160,
     "user": {
      "displayName": "Renato Leite",
      "photoUrl": "https://lh3.googleusercontent.com/a-/AAuE7mCcpGTVtWJSJsdfArIod76mBazk0Z-3wTxm3KyO=s64",
      "userId": "15440836296443467523"
     },
     "user_tz": 180
    },
    "id": "jwwomXjjBCQo",
    "outputId": "7b9108ce-426e-41e2-9bb8-668913953f63"
   },
   "outputs": [
    {
     "data": {
      "text/plain": [
       "<tf.Tensor: shape=(10, 1), dtype=float32, numpy=\n",
       "array([[-0.9993263 ],\n",
       "       [-1.0004181 ],\n",
       "       [-0.9991874 ],\n",
       "       [-1.0004778 ],\n",
       "       [-0.9995456 ],\n",
       "       [-0.99920183],\n",
       "       [-1.0002581 ],\n",
       "       [-0.9995991 ],\n",
       "       [-0.99939024],\n",
       "       [-0.999878  ]], dtype=float32)>"
      ]
     },
     "execution_count": 150,
     "metadata": {
      "tags": []
     },
     "output_type": "execute_result"
    }
   ],
   "source": [
    "lr = 0.001\n",
    "a - (lr*grad)"
   ]
  },
  {
   "cell_type": "code",
   "execution_count": null,
   "metadata": {
    "colab": {},
    "colab_type": "code",
    "id": "_ZByeDcOC9Kd"
   },
   "outputs": [],
   "source": [
    "def mse(yhat, y):\n",
    "    return tf.reduce_mean(tf.square(yhat - y))"
   ]
  },
  {
   "cell_type": "code",
   "execution_count": null,
   "metadata": {
    "colab": {},
    "colab_type": "code",
    "id": "wsYWsrdYInLH"
   },
   "outputs": [],
   "source": [
    "n=10\n",
    "epochs = 1\n",
    "lr = 0.1\n",
    "\n",
    "x = tf.random.uniform([n,1],-1,1)\n",
    "a = tf.Variable([[3.]])\n",
    "\n",
    "y = tf.add(tf.matmul(x,a), tf.random.uniform([n,1]))\n",
    "\n",
    "a = tf.Variable([[-1.]])"
   ]
  },
  {
   "cell_type": "code",
   "execution_count": null,
   "metadata": {
    "colab": {},
    "colab_type": "code",
    "id": "hkyLIHXk1mZn"
   },
   "outputs": [],
   "source": [
    "def update(epochs, lr, x, y, a):\n",
    "    # Calculate predictions\n",
    "    y_hat = tf.matmul(x,a)\n",
    "    \n",
    "    # Calculate and print Loss\n",
    "    loss = mse(y_hat, y)\n",
    "    #if(t%10 == 0): print(loss)\n",
    "\n",
    "    # Get Loss and Gradients\n",
    "    w = tf.Variable(y_hat - y)\n",
    "    with tf.GradientTape() as tape:\n",
    "        l = tf.reduce_mean(tf.square(w))\n",
    "    grad = tape.gradient(l, w)\n",
    "\n",
    "    a = a - tf.reduce_mean(lr*grad)\n",
    "    return a, loss "
   ]
  },
  {
   "cell_type": "code",
   "execution_count": null,
   "metadata": {
    "colab": {
     "base_uri": "https://localhost:8080/",
     "height": 50
    },
    "colab_type": "code",
    "executionInfo": {
     "elapsed": 2483,
     "status": "ok",
     "timestamp": 1581204741879,
     "user": {
      "displayName": "Renato Leite",
      "photoUrl": "https://lh3.googleusercontent.com/a-/AAuE7mCcpGTVtWJSJsdfArIod76mBazk0Z-3wTxm3KyO=s64",
      "userId": "15440836296443467523"
     },
     "user_tz": 180
    },
    "id": "u6d2Dtx5KEbM",
    "outputId": "f7cbbf80-4b3c-4b60-c55c-a53b8913e687"
   },
   "outputs": [
    {
     "name": "stdout",
     "output_type": "stream",
     "text": [
      "Novo Valor de a:  tf.Tensor([[-42.244186]], shape=(1, 1), dtype=float32)\n",
      "Loss:  tf.Tensor(663.36163, shape=(), dtype=float32)\n"
     ]
    }
   ],
   "source": [
    "for i in range(1000):\n",
    "    a, loss = update(1, 0.1, x, y, a)\n",
    "print('Novo Valor de a: ', a)\n",
    "print('Loss: ', loss)"
   ]
  },
  {
   "cell_type": "code",
   "execution_count": null,
   "metadata": {
    "colab": {
     "base_uri": "https://localhost:8080/",
     "height": 265
    },
    "colab_type": "code",
    "executionInfo": {
     "elapsed": 570,
     "status": "ok",
     "timestamp": 1581204743023,
     "user": {
      "displayName": "Renato Leite",
      "photoUrl": "https://lh3.googleusercontent.com/a-/AAuE7mCcpGTVtWJSJsdfArIod76mBazk0Z-3wTxm3KyO=s64",
      "userId": "15440836296443467523"
     },
     "user_tz": 180
    },
    "id": "qZLEAp3MKFO-",
    "outputId": "4fdc969a-8e9e-4e7b-e197-c0e6d065253f"
   },
   "outputs": [
    {
     "data": {
      "image/png": "[encoded data removed]",
      "text/plain": [
       "<Figure size 432x288 with 1 Axes>"
      ]
     },
     "metadata": {
      "tags": []
     },
     "output_type": "display_data"
    }
   ],
   "source": [
    "plt.scatter(x[:,0], y);\n",
    "plt.scatter(x[:,0], tf.matmul(x,a));"
   ]
  },
  {
   "cell_type": "code",
   "execution_count": null,
   "metadata": {
    "colab": {},
    "colab_type": "code",
    "id": "3gXp2Z7oH6wv"
   },
   "outputs": [],
   "source": []
  }
 ],
 "metadata": {
  "accelerator": "GPU",
  "colab": {
   "authorship_tag": "ABX9TyNJzjAPt59ZMfBy61HG2AJY",
   "collapsed_sections": [],
   "name": "Lesson 2 - Image Classification.ipynb",
   "provenance": []
  },
  "kernelspec": {
   "display_name": "Python 3",
   "language": "python",
   "name": "python3"
  },
  "language_info": {
   "codemirror_mode": {
    "name": "ipython",
    "version": 3
   },
   "file_extension": ".py",
   "mimetype": "text/x-python",
   "name": "python",
   "nbconvert_exporter": "python",
   "pygments_lexer": "ipython3",
   "version": "3.7.6"
  }
 },
 "nbformat": 4,
 "nbformat_minor": 4
}
