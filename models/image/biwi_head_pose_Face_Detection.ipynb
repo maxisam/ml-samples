{
 "cells": [
  {
   "cell_type": "markdown",
   "metadata": {
    "colab_type": "text",
    "id": "FlDq9u2Yk3Pq"
   },
   "source": [
    "# Face Detection Problem\n",
    "\n",
    " - Fazer o download do dataset BIWI_HEAD_POSE\n",
    " - Aplicar a função de transformação que eles passam para achar a coordenadas do centro da face.\n",
    " - Ao invés de classificação, nesse caso queremos achar o centro da face de uma pessoa na foto. O output serão dois pontos, duas coordenadas.\n",
    " - Verificar se existe a necessidade de tratar pontos, ou se existe isso no Tensorflow. \n",
    " - Fazer o SPLIT do dataset de maneira a deixar uma determinada pessoal, no caso do fastai foi a pessoa 13, para fazer a validação.\n",
    " - De alguma maneira fazer o plot da imagem e do ponto previsto.\n",
    "\n"
   ]
  },
  {
   "cell_type": "code",
   "execution_count": null,
   "metadata": {
    "colab": {},
    "colab_type": "code",
    "id": "bzfl_4d6nCWZ"
   },
   "outputs": [],
   "source": []
  }
 ],
 "metadata": {
  "colab": {
   "authorship_tag": "ABX9TyNe+YpyuHL9cAsAzG2LGYT7",
   "name": "Lesson 3 - Face Detection.ipynb",
   "provenance": []
  },
  "kernelspec": {
   "display_name": "Python 3",
   "language": "python",
   "name": "python3"
  },
  "language_info": {
   "codemirror_mode": {
    "name": "ipython",
    "version": 3
   },
   "file_extension": ".py",
   "mimetype": "text/x-python",
   "name": "python",
   "nbconvert_exporter": "python",
   "pygments_lexer": "ipython3",
   "version": "3.7.6"
  }
 },
 "nbformat": 4,
 "nbformat_minor": 4
}
