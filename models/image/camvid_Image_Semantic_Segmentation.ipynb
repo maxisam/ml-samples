{
 "cells": [
  {
   "cell_type": "markdown",
   "metadata": {
    "colab_type": "text",
    "id": "WU6YEXBMzj9t"
   },
   "source": [
    "### Data\n",
    "\n",
    " - Fazer download do dataset CamVid (usar do próprio Fastai o download).\n",
    " - Exibir algumas imagens e algumas máscaras. Qual a diferença?\n",
    "    - Como podemos fazer um dataset com cada um desses elementos?\n",
    " - Converter para INTEGER a máscara, uma vez que serão os labels que iremos classificar.\n",
    "\n",
    "### Dataset\n",
    " - Como iremos montar o dataset com máscaras?\n",
    " - SPLIT dos dados deverá ser igual ao do arquivo valid.txt.\n",
    " - Existe uma maneira de passar a lista de classes para um tf.data no Tensorflow? Qual seria o propósito disso?\n",
    " - Hyperparam: Também podemos considerar um HP o SHAPE da imagem que estamos fazendo o modelo.\n",
    "\n",
    "### Transformations\n",
    " - Image Normalization\n",
    " - Flip (não esquecer de fazer a transformada em y também)\n",
    "\n",
    "### Show\n",
    " - Mostrar o dataset com a imagem e máscara sobrepostos.\n",
    "\n",
    "### Model\n",
    " - Usar ResNet para fazer essa classificação também. Não seria melhor usar o crrn-mask ou qualquer outro modelo de segmentação?\n",
    " - Achar o melhor Learning rate com LearningRate Scheduler.\n",
    "  - No Fastai ele usa uma técnica para aumentar e diminuir o LR dinamicamente. Eventualmente os optimizers existentes podem resolver isso como Adam ou Momentum.\n",
    " - Métricas: Acurácia, F2-Score\n",
    " - Treinar apenas os últimos layers e também experimentar fazer o unfreeze de alguns layers a mais para ver o resultado.\n",
    " - UNET = Criar um modelo desse tipo com os weights da ResNet34 ou 50.\n",
    "  - Daria para usar o RCNN ou outra técnica? Qual é o estado da arte para esse tipo de classificação?\n",
    " - Criar modelos em datasets com resoluções diferentes de imagens (64,64), (128,128), (256,256) => Progressivelly resize\n",
    "\n",
    " - Learning Rate Scheduler:\n",
    "  - Fazer de uma maneira que passamos o máximo do LR e a partir daqui ele vai um incremento e depois decresce.\n",
    "\n",
    "### Metrics\n",
    " - Determinar ACC removendo as classificações dos Pixels \"VOID\".\n",
    "\n",
    "\n",
    "### Mixed Precision Training\n",
    " - Testar como fazer isso no Tensorflow\n",
    "\n",
    "\n",
    "### Extra!\n",
    " - Usar o @function no treinamento e XLA.\n",
    " - De alguma maneira comparar a performance antes e depois de usar esses componentes."
   ]
  },
  {
   "cell_type": "code",
   "execution_count": null,
   "metadata": {
    "colab": {},
    "colab_type": "code",
    "id": "G8zf76A_CtHo"
   },
   "outputs": [],
   "source": []
  }
 ],
 "metadata": {
  "colab": {
   "authorship_tag": "ABX9TyMOT2TNP64Htguorj8FXfL6",
   "name": "Lesson 3 - Image Semantic Segmentation.ipynb",
   "provenance": []
  },
  "kernelspec": {
   "display_name": "Python 3",
   "language": "python",
   "name": "python3"
  },
  "language_info": {
   "codemirror_mode": {
    "name": "ipython",
    "version": 3
   },
   "file_extension": ".py",
   "mimetype": "text/x-python",
   "name": "python",
   "nbconvert_exporter": "python",
   "pygments_lexer": "ipython3",
   "version": "3.7.6"
  }
 },
 "nbformat": 4,
 "nbformat_minor": 4
}
