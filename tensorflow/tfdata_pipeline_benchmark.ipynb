{
 "cells": [
  {
   "cell_type": "markdown",
   "metadata": {},
   "source": [
    "# Building High Performance Data Pipelines with tf.Data and Google Cloud Storage\n",
    "\n",
    "This article goes through the steps of building a high performance data input pipeline using Tensorflow and Google Cloud Storage.\\\n",
    "The concepts and techniques are evolved at each step, going from the slowest to the fastest solution.\\\n",
    "\n",
    "This article uses the Stanford Dogs Dataset [1] with ~20000 images and 120 classes.\n",
    "\n",
    "[1] https://www.kaggle.com/jessicali9530/stanford-dogs-dataset"
   ]
  },
  {
   "cell_type": "markdown",
   "metadata": {},
   "source": [
    "## Benchmark function\n",
    "\n",
    "The benchmark will measure the number of images ingested (read) per second from Cloud Storage to the host virtual machine. \\\n",
    "There are several ways to implement this calculation, but a simple function was used to iterate through the dataset and measure the time.\n",
    "\n",
    "The following python function ('timeit' function) from Tensorflow documentation [1] (as of 03/18/2020 - version 2.1) is used. \\\n",
    "Since tf.data.Dataset implements \\__iter__, it is possible to iterate on this data to observe the progression.\n",
    "\n",
    "[1] https://www.tensorflow.org/tutorials/load_data/images#performance"
   ]
  },
  {
   "cell_type": "code",
   "execution_count": 1,
   "metadata": {},
   "outputs": [],
   "source": [
    "# First let's import Tensorflow\n",
    "import tensorflow as tf"
   ]
  },
  {
   "cell_type": "code",
   "execution_count": 2,
   "metadata": {},
   "outputs": [],
   "source": [
    "# Now import some additional libraries\n",
    "from numpy import zeros\n",
    "import numpy as np\n",
    "from datetime import datetime"
   ]
  },
  {
   "cell_type": "code",
   "execution_count": 3,
   "metadata": {},
   "outputs": [],
   "source": [
    "# Benchmark function for dataset\n",
    "import time\n",
    "default_timeit_steps = 1000\n",
    "BATCH_SIZE = 1\n",
    "\n",
    "# Iterate through each element of a dataset. An element is a pair \n",
    "# of image and label.\n",
    "def timeit(ds: tf.data.TFRecordDataset, steps: int = default_timeit_steps, \n",
    "           batch_size: int = BATCH_SIZE) -> None:\n",
    "    \n",
    "    start = time.time()\n",
    "    it = iter(ds)\n",
    "    \n",
    "    for i in range(steps):\n",
    "        batch = next(it)\n",
    "        \n",
    "        if i%10 == 0:\n",
    "            print('.',end='')\n",
    "    print()\n",
    "    end = time.time()\n",
    "    \n",
    "    duration = end-start\n",
    "    print(\"{} batches: {} s\".format(steps, duration))\n",
    "    print(\"{:0.5f} Images/s\".format(batch_size*steps/duration))"
   ]
  },
  {
   "cell_type": "markdown",
   "metadata": {},
   "source": [
    "## Let's create the Dataset using tf.data - Reading images individually\n",
    "\n",
    "All the images are located in a bucket in Google Cloud Storage (example: gs://cloud_bucket/label/image.jpeg).\\\n",
    "Labels are extracted (parsed) from the image name.\n",
    "\n",
    "In this first step, the dataset is created from the images file paths (gs://...), and labels are extracted and one-hot encoded.\n",
    "\n",
    "This dataset maps each image in the bucket individually."
   ]
  },
  {
   "cell_type": "code",
   "execution_count": 4,
   "metadata": {},
   "outputs": [],
   "source": [
    "# Global variables\n",
    "\n",
    "# Paths where images are located\n",
    "FILENAMES = 'gs://tf-data-pipeline/*/*.jpg'\n",
    "\n",
    "# Paths where labels can be parsed\n",
    "FOLDERS = 'gs://tf-data-pipeline/*'\n",
    "\n",
    "# Image resolution and shape\n",
    "RESOLUTION = (224,224)\n",
    "IMG_SHAPE=(224,224,3)\n",
    "\n",
    "# tf.data AUTOTUNE\n",
    "AUTOTUNE = tf.data.experimental.AUTOTUNE"
   ]
  },
  {
   "cell_type": "code",
   "execution_count": 5,
   "metadata": {},
   "outputs": [],
   "source": [
    "# Get labels from folder's name and create a map to an ID\n",
    "def get_label_map(path: str) -> (dict, dict):\n",
    "    #list folders in this path\n",
    "    folders_name = tf.io.gfile.glob(path)\n",
    "\n",
    "    labels = []\n",
    "    for folder in folders_name:\n",
    "        labels.append(folder.split(sep='/')[-1])\n",
    "\n",
    "    # Generate a Label Map and Interted Label Map\n",
    "    label_map = {labels[i]:i for i in range(len(labels))}\n",
    "    inv_label_map = {i:labels[i] for i in range(len(labels))}\n",
    "    \n",
    "    return label_map, inv_label_map"
   ]
  },
  {
   "cell_type": "code",
   "execution_count": 6,
   "metadata": {},
   "outputs": [],
   "source": [
    "# One hot encode the image's labels\n",
    "def one_hot_encode(label_map: dict, filepath: list) -> dict:\n",
    "    labels = dict()\n",
    "    \n",
    "    for i in range(len(filepath)):\n",
    "        encoding = zeros(len(label_map), dtype='uint8')\n",
    "        encoding[label_map[filepath[i].split(sep='/')[-2]]] = 1\n",
    "        \n",
    "        labels.update({filepath[i]:list(encoding)})\n",
    "    \n",
    "    return labels"
   ]
  },
  {
   "cell_type": "code",
   "execution_count": 7,
   "metadata": {},
   "outputs": [],
   "source": [
    "label_map, inv_label_map = get_label_map(FOLDERS)"
   ]
  },
  {
   "cell_type": "code",
   "execution_count": 8,
   "metadata": {},
   "outputs": [
    {
     "data": {
      "text/plain": [
       "[('n02085620-Chihuahua', 0),\n",
       " ('n02085782-Japanese_spaniel', 1),\n",
       " ('n02085936-Maltese_dog', 2),\n",
       " ('n02086079-Pekinese', 3),\n",
       " ('n02086240-Shih-Tzu', 4)]"
      ]
     },
     "execution_count": 8,
     "metadata": {},
     "output_type": "execute_result"
    }
   ],
   "source": [
    "list(label_map.items())[:5]"
   ]
  },
  {
   "cell_type": "code",
   "execution_count": 9,
   "metadata": {},
   "outputs": [],
   "source": [
    "# List all files in bucket\n",
    "filepath = tf.io.gfile.glob(FILENAMES)\n",
    "NUM_TOTAL_IMAGES = len(filepath)"
   ]
  },
  {
   "cell_type": "code",
   "execution_count": 10,
   "metadata": {},
   "outputs": [],
   "source": [
    "# Split the features (image path) from labels\n",
    "dataset = one_hot_encode(label_map, filepath)\n",
    "dataset = [[k,v] for k,v in dataset.items()]\n",
    "\n",
    "features = [i[0] for i in dataset]\n",
    "labels = [i[1] for i in dataset]"
   ]
  },
  {
   "cell_type": "code",
   "execution_count": 11,
   "metadata": {},
   "outputs": [],
   "source": [
    "# Create Dataset from Features and Labels\n",
    "dataset = tf.data.Dataset.from_tensor_slices((features, labels))"
   ]
  },
  {
   "cell_type": "code",
   "execution_count": 12,
   "metadata": {},
   "outputs": [
    {
     "name": "stdout",
     "output_type": "stream",
     "text": [
      "(<tf.Tensor: shape=(), dtype=string, numpy=b'gs://tf-data-pipeline/n02085620-Chihuahua/n02085620_10074.jpg'>, <tf.Tensor: shape=(120,), dtype=int32, numpy=\n",
      "array([1, 0, 0, 0, 0, 0, 0, 0, 0, 0, 0, 0, 0, 0, 0, 0, 0, 0, 0, 0, 0, 0,\n",
      "       0, 0, 0, 0, 0, 0, 0, 0, 0, 0, 0, 0, 0, 0, 0, 0, 0, 0, 0, 0, 0, 0,\n",
      "       0, 0, 0, 0, 0, 0, 0, 0, 0, 0, 0, 0, 0, 0, 0, 0, 0, 0, 0, 0, 0, 0,\n",
      "       0, 0, 0, 0, 0, 0, 0, 0, 0, 0, 0, 0, 0, 0, 0, 0, 0, 0, 0, 0, 0, 0,\n",
      "       0, 0, 0, 0, 0, 0, 0, 0, 0, 0, 0, 0, 0, 0, 0, 0, 0, 0, 0, 0, 0, 0,\n",
      "       0, 0, 0, 0, 0, 0, 0, 0, 0, 0], dtype=int32)>)\n"
     ]
    }
   ],
   "source": [
    "# Example of one element of the dataset\n",
    "# At this point we have a dataset containing the path and labels of an image\n",
    "print(next(iter(dataset)))"
   ]
  },
  {
   "cell_type": "markdown",
   "metadata": {},
   "source": [
    "Next we define some preprocessing functions to:\n",
    " - Read the data from Cloud Storage\n",
    " - Decode JPEG\n",
    " - Convert image to a range between 0 and 1, as float\n",
    " - Resize image"
   ]
  },
  {
   "cell_type": "code",
   "execution_count": 13,
   "metadata": {},
   "outputs": [],
   "source": [
    "# Download image bytes from Cloud Storage\n",
    "def get_bytes_label(filepath, label):\n",
    "    raw_bytes = tf.io.read_file(filepath)\n",
    "    return raw_bytes, label"
   ]
  },
  {
   "cell_type": "code",
   "execution_count": 14,
   "metadata": {},
   "outputs": [],
   "source": [
    "# Preprocess Image\n",
    "def process_image(raw_bytes, label):\n",
    "    image = tf.io.decode_jpeg(raw_bytes, channels=3)\n",
    "    image = tf.image.convert_image_dtype(image, dtype=tf.float32)\n",
    "    image = tf.image.resize(image, (224,224))\n",
    "    \n",
    "    return image, label"
   ]
  },
  {
   "cell_type": "markdown",
   "metadata": {},
   "source": [
    "#### Building the dataset\n",
    "\n",
    "From the Dataset already built with image paths and labels, the preprocessing functions are applied for each element to download the bytes from Cloud Storage and apply some transformations to the images. \\\n",
    "These steps are only performed when the dataset is iterated.\n",
    "\n",
    "At this point, all the steps are executed while streaming the data, including:\n",
    " - IO intensive operations like download de images (get_bytes_label)\n",
    " - CPU intensive operations like decode and resize the image (process_image)\n",
    "\n",
    "Some observations for the code below:\n",
    " - \"num_parallel_calls = tf.data.experimental.AUTOTUNE\" was used to let tensorflow runtime decide the best parametrization for its functions.\\\n",
    " - \"dataset.cache\" was implemented, but as we are reading a large amount of data, this may not fit into memory and become impossible to use.\n",
    " - \"dataset.prefetch\" allows buffering of elements in order to increase performance."
   ]
  },
  {
   "cell_type": "code",
   "execution_count": 15,
   "metadata": {},
   "outputs": [],
   "source": [
    "# Map transformations for each element inside the dataset\n",
    "# Maps are separated as IO Intensive and CPU Intensive\n",
    "def build_dataset(dataset, batch_size=BATCH_SIZE, cache=False):\n",
    "    \n",
    "    dataset = dataset.shuffle(NUM_TOTAL_IMAGES)\n",
    "    \n",
    "    # Extraction: IO Intensive\n",
    "    dataset = dataset.map(get_bytes_label, num_parallel_calls=AUTOTUNE)\n",
    "\n",
    "    # Transformation: CPU Intensive\n",
    "    dataset = dataset.map(process_image, num_parallel_calls=AUTOTUNE)\n",
    "    dataset = dataset.repeat()\n",
    "    dataset = dataset.batch(batch_size=batch_size)\n",
    "    \n",
    "    if cache:\n",
    "        if isinstance(cache, str):\n",
    "            dataset = dataset.cache(filename=cache)\n",
    "        else:\n",
    "            dataset = dataset.cache()\n",
    "    \n",
    "    # Pipeline next iteration\n",
    "    dataset = dataset.prefetch(buffer_size=AUTOTUNE)\n",
    "    \n",
    "    return dataset"
   ]
  },
  {
   "cell_type": "code",
   "execution_count": 16,
   "metadata": {},
   "outputs": [],
   "source": [
    "# Apply transformations to the dataset with images paths and labels\n",
    "train_ds = build_dataset(dataset)"
   ]
  },
  {
   "cell_type": "markdown",
   "metadata": {},
   "source": [
    "## Benchmark baseline\n",
    "\n",
    "Let's first create a baseline for our benchmark with a local cache to understand how fast we can go with this process.\\\n",
    "To do that, read a single file, cache it in memory and repeate forever.\\\n",
    "With this dataset, let's run our benchmark for 20000 steps."
   ]
  },
  {
   "cell_type": "code",
   "execution_count": 17,
   "metadata": {},
   "outputs": [],
   "source": [
    "local_ds = train_ds.take(1).cache().repeat()"
   ]
  },
  {
   "cell_type": "markdown",
   "metadata": {},
   "source": [
    "When we cache after taking an element, the preprocess won't be repeated."
   ]
  },
  {
   "cell_type": "code",
   "execution_count": 21,
   "metadata": {},
   "outputs": [
    {
     "name": "stdout",
     "output_type": "stream",
     "text": [
      "................................................................................................................................................................................................................................................................................................................................................................................................................................................................................................................................................................................................................................................................................................................................................................................................................................................................................................................................................................................................................................................................................................................................................................................................................................................................................................................................................................................................................................................................................................................................................................................................................................................................................................................................................................................................................................................................................................................................................................................................................................................................................\n",
      "20000 batches: 2.0559399127960205 s\n",
      "9727.91076 Images/s\n"
     ]
    }
   ],
   "source": [
    "timeit(local_ds, 20000, batch_size=1)"
   ]
  },
  {
   "cell_type": "markdown",
   "metadata": {},
   "source": [
    "This test achieved a pick throughput of ~10500 images per second."
   ]
  },
  {
   "cell_type": "markdown",
   "metadata": {},
   "source": [
    "## First Attempt, without caching\n",
    "\n",
    "In this first benchmark no caching mecanism is used and the images are read one by one from the bucket.\n",
    "\n",
    "The biggest problem here is to read 1000's of files one by one. \\\n",
    "Since there are thousands of images, this process can take longer. From the tensorflow documentation: \n",
    "> In a real-world setting, the input data may be stored remotely (for example, GCS or HDFS). A dataset pipeline that works well when reading data locally might become bottlenecked on I/O when reading data remotely because of the following differences between local and remote storage:\n",
    "\n",
    ">  - Time-to-first-byte: Reading the first byte of a file from remote storage can take orders of magnitude longer than from local storage.\n",
    ">  - Read throughput: While remote storage typically offers large aggregate bandwidth, reading a single file might only be able to utilize a small fraction of this bandwidth.\n",
    "\n",
    "\n",
    "Let's call our \"timeit\" function to measure the time needed for the load. "
   ]
  },
  {
   "cell_type": "code",
   "execution_count": 22,
   "metadata": {},
   "outputs": [
    {
     "name": "stdout",
     "output_type": "stream",
     "text": [
      "....................................................................................................\n",
      "1000 batches: 19.306929349899292 s\n",
      "51.79488 Images/s\n"
     ]
    }
   ],
   "source": [
    "# Iterate through this dataset for 1000 steps.\n",
    "timeit(train_ds, batch_size=1, steps=1000)"
   ]
  },
  {
   "cell_type": "markdown",
   "metadata": {},
   "source": [
    "Reading files individually took a long time and is far from an ideal this throughput."
   ]
  },
  {
   "cell_type": "markdown",
   "metadata": {},
   "source": [
    "## Ok, let's put some local cache in action\n",
    "\n",
    "tf.data.Dataset implements a cache function. \n",
    "\n",
    "If no parameter is passad to the cache function, it uses the memory of the host to cache the data. \\\n",
    "The problem is if your dataset is bigger than your host memory and you can't cache the epoch in memory. In this case the cache won't help and we still have an IO bottleneck.\\\n",
    "It is also possible to cache the images in a local storage for reuse in future epochs.\n",
    "\n",
    "First let's test the throughput using cache in memory and than in as a local file.\\\n",
    "Note that we need to pass at least twice through the dataset in order to the cache to have any effect."
   ]
  },
  {
   "cell_type": "code",
   "execution_count": null,
   "metadata": {},
   "outputs": [],
   "source": [
    "# Memory\n",
    "train_cache_ds = build_dataset(dataset, cache=True)\n",
    "timeit(train_cache_ds, batch_size=1, steps=50000)"
   ]
  },
  {
   "cell_type": "markdown",
   "metadata": {},
   "source": [
    "This execution exausted the memory of my host VM with 16GB of RAM and gave the following error.\n",
    "\n",
    ">ResourceExhaustedError: OOM when allocating tensor with shape[688,813,3] and type float on /job:localhost/replica:0/task:0/device:CPU:0 by allocator mklcpu\n",
    "\t [[{{node convert_image/Cast}}]]"
   ]
  },
  {
   "cell_type": "code",
   "execution_count": null,
   "metadata": {},
   "outputs": [],
   "source": [
    "# Local Cache File\n",
    "train_local_cache_ds = build_dataset(dataset, cache='./dog.tfcache', batch_size=1)\n",
    "timeit(train_local_cache_ds, batch_size=1, steps=50000)"
   ]
  },
  {
   "cell_type": "markdown",
   "metadata": {},
   "source": [
    "### Any performance improvement?\n",
    "\n",
    "Using the memory of the host VM as a cache mechanism, we exausted all the resources without improving the throughtput of the dataset.\\\n",
    "While using a local storage we could cache all the data, but no performance gain was perceived.\n",
    "\n",
    "To solve this problem we can follow some best practices for designing a performant TensorFlow data input pipeline (from the Tensorflow documentation [1]):\n",
    "\n",
    " - Use the prefetch transformation to overlap the work of a producer and consumer.\n",
    " - Parallelize the data reading transformation using the interleave transformation.\n",
    " - Parallelize the map transformation by setting the num_parallel_calls argument.\n",
    " - Use the cache transformation to cache data in memory during the first epoch\n",
    " - Vectorize user-defined functions passed in to the map transformation\n",
    " - Reduce memory usage when applying the interleave, prefetch, and shuffle transformations.\n",
    " \n",
    "But before we continue, let's do some tracing to understand what is going on.\n",
    "\n",
    "I would add another factor:\n",
    " - Bundle your data, preprocessed if possible, in TFRecord files.\n",
    "\n",
    "[1] https://www.tensorflow.org/guide/data_performance\n"
   ]
  },
  {
   "cell_type": "markdown",
   "metadata": {},
   "source": [
    "#### tip: Performance analysis with Tensorboard\n",
    "\n",
    "If you want to go deeper and investigate why the performance of your benchmark if not going well, you can trace the tensorflow ops to see whats going on. \\\n",
    "As we are not running a model training loop, we can start tracing individually for this operation."
   ]
  },
  {
   "cell_type": "code",
   "execution_count": null,
   "metadata": {},
   "outputs": [],
   "source": [
    "tf.summary.trace_off()\n",
    "tf.summary.trace_on(graph=False, profiler=True)\n",
    "\n",
    "train_ds = build_dataset(dataset)\n",
    "timeit(train_ds, steps=1000)\n",
    "\n",
    "tf.summary.trace_export('Data Pipeline', profiler_outdir='/home/jupyter/tensorflow-data-pipeline/logs/')"
   ]
  },
  {
   "cell_type": "code",
   "execution_count": null,
   "metadata": {},
   "outputs": [],
   "source": [
    "# Load the TensorBoard notebook extension.\n",
    "%load_ext tensorboard"
   ]
  },
  {
   "cell_type": "code",
   "execution_count": null,
   "metadata": {},
   "outputs": [],
   "source": [
    "# Start tensorboard inside one cell\n",
    "%tensorboard --logdir=/home/jupyter/tensorflow-data-pipeline/logs"
   ]
  },
  {
   "cell_type": "markdown",
   "metadata": {},
   "source": [
    "<table style=\"width:100%\">\n",
    "  <tr>\n",
    "    <th>High Level View</th>\n",
    "    <th>Zoom View</th> \n",
    "  </tr>\n",
    "  <tr>\n",
    "    <td><img src=\"https://storage.cloud.google.com/renatoleite-nb/images/trace1.png\"></td>\n",
    "    <td><img src=\"https://storage.cloud.google.com/renatoleite-nb/images/trace2.png\"></td>\n",
    "  </tr>\n",
    "</table>"
   ]
  },
  {
   "cell_type": "markdown",
   "metadata": {},
   "source": [
    "Two threads were created to read the files in parallel.\\\n",
    "We won't go into much details on Tensorboard, but it would be useful to analyse the time each operation took to execute.\n",
    "\n",
    "The next step is to bundle together all the images in a TFRecord file, so let's do it."
   ]
  },
  {
   "cell_type": "markdown",
   "metadata": {},
   "source": [
    "## Using TF.Record for speedup de reading process\n",
    "\n",
    "Up to now the images were read one by one, which proved to be a very inefficient process. \\\n",
    "To mitigate this problem, one solution is to preprocess and write the images and labels to TFRecord files.\n",
    "\n",
    "We can get the motivation on why creating TFRecode files with our images would be a good idea:\n",
    "\n",
    "> To read data efficiently it can be helpful to serialize your data and store it in a set of files (100-200MB each) that can each be read linearly. This is especially true if the data is being streamed over a network. This can also be useful for caching any data-preprocessing.\n",
    "\n",
    "> The TFRecord format is a simple format for storing a sequence of binary records.\n",
    "\n",
    "In the following steps, the images are preprocessed and written to TFRecords.\n",
    "The following steps are followed:\n",
    " - Read the data from Cloud Storage\n",
    " - Decode the JPEG and resize the image\n",
    " - Encode the JPEG\n",
    " - Serialize the images into Bytes (tf.train.BytesList) and Labels into Ints (tf.train.Int64List)\n",
    " - Create a tf.Example with this two components and return a serialized string."
   ]
  },
  {
   "cell_type": "code",
   "execution_count": null,
   "metadata": {},
   "outputs": [],
   "source": [
    "# Function to download bytes from Cloud Storage\n",
    "def get_bytes_label_tfrecord(filepath, label):\n",
    "    raw_bytes = tf.io.read_file(filepath)\n",
    "    return raw_bytes, label"
   ]
  },
  {
   "cell_type": "code",
   "execution_count": null,
   "metadata": {},
   "outputs": [],
   "source": [
    "# Preprocess Image\n",
    "def process_image_tfrecord(raw_bytes, label):\n",
    "    image = tf.io.decode_jpeg(raw_bytes, channels=3)\n",
    "    image = tf.image.resize(image, (224,224), method='nearest')\n",
    "    image = tf.io.encode_jpeg(image, optimize_size=True)\n",
    "    \n",
    "    return image, label"
   ]
  },
  {
   "cell_type": "code",
   "execution_count": null,
   "metadata": {},
   "outputs": [],
   "source": [
    "# Read images, preprocess and return a dataset\n",
    "def build_dataset_tfrecord(dataset):\n",
    "    \n",
    "    dataset = dataset.map(get_bytes_label_tfrecord, num_parallel_calls=AUTOTUNE)\n",
    "    dataset = dataset.map(process_image_tfrecord, num_parallel_calls=AUTOTUNE)\n",
    "    \n",
    "    return dataset"
   ]
  },
  {
   "cell_type": "code",
   "execution_count": null,
   "metadata": {},
   "outputs": [],
   "source": [
    "def tf_serialize_example(image, label):\n",
    "    \n",
    "    def _bytes_feature(value):\n",
    "        \"\"\"Returns a bytes_list from a string / byte.\"\"\"\n",
    "        if isinstance(value, type(tf.constant(0))):\n",
    "            value = value.numpy() # BytesList won't unpack a string from an EagerTensor.\n",
    "        return tf.train.Feature(bytes_list=tf.train.BytesList(value=[value]))\n",
    "\n",
    "    def _float_feature(value):\n",
    "        \"\"\"Returns a float_list from a float / double.\"\"\"\n",
    "        return tf.train.Feature(float_list=tf.train.FloatList(value=[value]))\n",
    "\n",
    "    def _int64_feature(value):\n",
    "        \"\"\"Returns an int64_list from a bool / enum / int / uint.\"\"\"\n",
    "        return tf.train.Feature(int64_list=tf.train.Int64List(value=value))    \n",
    "    \n",
    "    def serialize_example(image, label):\n",
    "        \n",
    "        feature = {\n",
    "            'image': _bytes_feature(image),\n",
    "            'label': _int64_feature(label)\n",
    "        }\n",
    "\n",
    "        example_proto = tf.train.Example(features=tf.train.Features(feature=feature))\n",
    "        \n",
    "        return example_proto.SerializeToString()\n",
    "    \n",
    "    tf_string = serialize_example(image, label)\n",
    "\n",
    "    return tf_string"
   ]
  },
  {
   "cell_type": "markdown",
   "metadata": {},
   "source": [
    "The following function shards the dataset into batches of images and labels. \\\n",
    "For each shard, the images and labels are serialized and written to the TFRecord file.\n",
    "\n",
    "The TFRecordWriter allows the compression of files to some formats. One chosen here is GZIP."
   ]
  },
  {
   "cell_type": "code",
   "execution_count": null,
   "metadata": {},
   "outputs": [],
   "source": [
    "# Create TFRecord with `n_shards` shards\n",
    "def create_tfrecord(ds, n_shards):\n",
    "\n",
    "    for i in range(n_shards):\n",
    "        batch = map(lambda x: tf_serialize_example(x[0],x[1]), ds.shard(n_shards, i)\n",
    "                    .apply(build_dataset_tfrecord)\n",
    "                    .as_numpy_iterator())\n",
    "        \n",
    "        with tf.io.TFRecordWriter('output_file-part-{i}.tfrecord'.format(i=i), 'GZIP') as writer:\n",
    "            print('Creating TFRecord ... output_file-part-{i}.tfrecord'.format(i=i))\n",
    "            for a in batch:\n",
    "                writer.write(a)"
   ]
  },
  {
   "cell_type": "code",
   "execution_count": null,
   "metadata": {},
   "outputs": [],
   "source": [
    "# We sharded into 4 files with 130MB each.\n",
    "# If the dataset is bigger, you can create more shards\n",
    "create_tfrecord(dataset, 4)"
   ]
  },
  {
   "cell_type": "markdown",
   "metadata": {},
   "source": [
    "# Consuming the TFRecord and Re-Running the Benchmark\n",
    "\n",
    "The TFRecords are saved in the local filesystem. To continue our benchmark, it is necessary to copy the files to a bucket in Cloud Storage.\\\n",
    "The files were copied to the following path:"
   ]
  },
  {
   "cell_type": "code",
   "execution_count": null,
   "metadata": {},
   "outputs": [],
   "source": [
    "TFRECORDS = 'gs://renatoleite-nb/tfrecords/*'"
   ]
  },
  {
   "cell_type": "markdown",
   "metadata": {},
   "source": [
    "To read the Serialized data inside each TFRecord, it is necessary to pass a description of the features (image and label) previously encoded as a tf.feature. \\\n",
    "To do so, create a dictionary describing each component we will read."
   ]
  },
  {
   "cell_type": "code",
   "execution_count": null,
   "metadata": {},
   "outputs": [],
   "source": [
    "# Create a description of the features.\n",
    "feature_description = {\n",
    "    'image': tf.io.FixedLenFeature([], tf.string),\n",
    "    'label': tf.io.FixedLenSequenceFeature([], tf.int64, allow_missing=True)\n",
    "}"
   ]
  },
  {
   "cell_type": "markdown",
   "metadata": {},
   "source": [
    "Then a function can parse an example from the TFRecord, using the description created before."
   ]
  },
  {
   "cell_type": "code",
   "execution_count": null,
   "metadata": {},
   "outputs": [],
   "source": [
    "@tf.function\n",
    "def _parse_function(example_proto):\n",
    "    # Parse the input `tf.Example` proto using the dictionary above.\n",
    "    return tf.io.parse_single_example(example_proto, feature_description)"
   ]
  },
  {
   "cell_type": "markdown",
   "metadata": {},
   "source": [
    "First all the files were listed inside the specified bucketand created a dataset using \".from_tensorf_slices\", but it would be possible to create a TFRecordDataset directly from this listing.\\\n",
    "The reason this was done is because the dataset with listing is used later."
   ]
  },
  {
   "cell_type": "code",
   "execution_count": null,
   "metadata": {},
   "outputs": [],
   "source": [
    "# List all the TFRecords and create a dataset from it\n",
    "filenames = tf.io.gfile.glob(TFRECORDS)\n",
    "filenames_dataset = tf.data.Dataset.from_tensor_slices(filenames)"
   ]
  },
  {
   "cell_type": "code",
   "execution_count": null,
   "metadata": {},
   "outputs": [],
   "source": [
    "# Preprocess Image\n",
    "@tf.function\n",
    "def process_image_tfrecord(record):  \n",
    "    image = tf.io.decode_jpeg(record['image'], channels=3)\n",
    "    image = tf.image.convert_image_dtype(image, dtype=tf.float32)\n",
    "    \n",
    "    label = record['label']\n",
    "    \n",
    "    return image, label"
   ]
  },
  {
   "cell_type": "markdown",
   "metadata": {},
   "source": [
    "Note that our preprocess function don't resize the image anymore. \\\n",
    "This is because we store the images in the TFRecord files already resized.\n",
    "\n",
    "The TFRecordDataset has a flag \"num_parallel_reads\" to parallelize the number of reads by the runtime. \\\n",
    "This flag is set to AUTOTUNE to let Tensorflow decide how many threads are necessary to optimize the process."
   ]
  },
  {
   "cell_type": "code",
   "execution_count": null,
   "metadata": {},
   "outputs": [],
   "source": [
    "# Create a Dataset composed of TFRecords (paths to bucket)\n",
    "@tf.function\n",
    "def get_tfrecord(filename):\n",
    "    return tf.data.TFRecordDataset(filename, compression_type='GZIP', num_parallel_reads=AUTOTUNE)"
   ]
  },
  {
   "cell_type": "markdown",
   "metadata": {},
   "source": [
    "The new function to build the dataset has the following changes:\n",
    " - Use of \"interleave\" to parallelize the opening of files. From tensorflow documentation:\n",
    " > To mitigate the impact of the various data extraction overheads, the tf.data.Dataset.interleave transformation can be used to parallelize the data loading step, interleaving the contents of other datasets (such as data file readers). The number of datasets to overlap can be specified by the cycle_length argument, while the level of parallelism can be specified by the num_parallel_calls argument. Similar to the prefetch transformation, the interleave transformation supports tf.data.experimental.AUTOTUNE which will delegate the decision about what level of parallelism to use to the tf.data runtime.\n",
    " \n",
    " - Use of the \"\\_parse_function\" to extract and deserialize the image and label.\n",
    " - Lighter version of preprocess, without resizing it (images are stored in TFRecord file already resized)."
   ]
  },
  {
   "cell_type": "code",
   "execution_count": null,
   "metadata": {},
   "outputs": [],
   "source": [
    "def build_dataset_test(dataset, batch_size=BATCH_SIZE):\n",
    "    \n",
    "    dataset = dataset.interleave(get_tfrecord, num_parallel_calls=AUTOTUNE)\n",
    "    \n",
    "    # Transformation: IO Intensive \n",
    "    dataset = dataset.map(_parse_function, num_parallel_calls=AUTOTUNE)\n",
    "\n",
    "    # Transformation: CPU Intensive\n",
    "    dataset = dataset.map(process_image_tfrecord, num_parallel_calls=AUTOTUNE)\n",
    "    dataset = dataset.repeat()\n",
    "    dataset = dataset.batch(batch_size=batch_size)\n",
    "    \n",
    "    # Pipeline next iteration\n",
    "    dataset = dataset.prefetch(buffer_size=AUTOTUNE)\n",
    "    \n",
    "    return dataset"
   ]
  },
  {
   "cell_type": "code",
   "execution_count": null,
   "metadata": {},
   "outputs": [],
   "source": [
    "test_ds = build_dataset_test(filenames_dataset, batch_size=32)"
   ]
  },
  {
   "cell_type": "code",
   "execution_count": null,
   "metadata": {},
   "outputs": [],
   "source": [
    "timeit(test_ds, steps=20000, batch_size=32)"
   ]
  },
  {
   "cell_type": "markdown",
   "metadata": {},
   "source": [
    "This new benchmark gives us around 2100 images per second, a much better version of the original pipeline developed (reading images individually).\\\n",
    "To speedup the training process and utilized better your resources like GPUs and TPUs, it is critical to build a very efficient data pipeline. otherwise this can quickly become a bottleneck in you training loop.\n",
    "\n",
    "We could also try to cache the data at different stages, like the example bellow (from tensorflow documentation), but I am assuming the data won't fit into the host VM memory, so it is needed to read Cloud Storage each epoch.\n",
    "\n",
    "> dataset.map(time_consuming_mapping).cache().map(memory_consuming_mapping)"
   ]
  },
  {
   "cell_type": "markdown",
   "metadata": {},
   "source": [
    "## Batch before we Map!\n",
    "\n",
    "One last performance optimization we can try is to batch the elements before applying the map transformation.\\\n",
    "This technique is called \"Vectorizing maps\" which is recommended to user-defined function (that is, have it operate over a batch of inputs at once) and apply the batch transformation before the map transformation. \\ \n",
    "\n",
    "Let's redefine the build_dataset and the preprocess map transformation:"
   ]
  },
  {
   "cell_type": "code",
   "execution_count": null,
   "metadata": {},
   "outputs": [],
   "source": [
    "def build_dataset_test(dataset, batch_size=BATCH_SIZE):\n",
    "    \n",
    "    dataset = dataset.interleave(get_tfrecord, num_parallel_calls=AUTOTUNE)\n",
    "\n",
    "    dataset = dataset.batch(batch_size=batch_size)\n",
    "    dataset = dataset.map(_parse_function, num_parallel_calls=AUTOTUNE)\n",
    "    dataset = dataset.map(process_image_tfrecord, num_parallel_calls=AUTOTUNE)\n",
    "\n",
    "    dataset = dataset.repeat()\n",
    "    # Pipeline next iteration\n",
    "    dataset = dataset.prefetch(buffer_size=AUTOTUNE)\n",
    "    \n",
    "    return dataset"
   ]
  },
  {
   "cell_type": "markdown",
   "metadata": {},
   "source": [
    "Notice that it is necessary to redefine the \\_parce_function and process_image_tfrecord to receive a batch of elements and process all of them."
   ]
  },
  {
   "cell_type": "code",
   "execution_count": null,
   "metadata": {},
   "outputs": [],
   "source": [
    "@tf.function\n",
    "def _parse_function(example_proto):\n",
    "    \n",
    "    feature_description = {\n",
    "        'image': tf.io.FixedLenFeature([], tf.string),\n",
    "        'label': tf.io.FixedLenSequenceFeature([], tf.int64, allow_missing=True)\n",
    "    }\n",
    "    \n",
    "    # Parse the input `tf.Example` proto using the dictionary above.\n",
    "    return tf.io.parse_example(example_proto, feature_description)"
   ]
  },
  {
   "cell_type": "code",
   "execution_count": null,
   "metadata": {},
   "outputs": [],
   "source": [
    "# Preprocess Image\n",
    "@tf.function\n",
    "def process_image_tfrecord(record):\n",
    "    \n",
    "    image = tf.map_fn(tf.io.decode_jpeg, record['image'], dtype=tf.uint8)\n",
    "    image = tf.map_fn(lambda image: \n",
    "                      tf.image.convert_image_dtype(image, dtype=tf.float32), image, dtype=tf.float32)\n",
    "    \n",
    "    label = record['label']\n",
    "    \n",
    "    return image, label"
   ]
  },
  {
   "cell_type": "code",
   "execution_count": null,
   "metadata": {},
   "outputs": [],
   "source": [
    "test_ds = build_dataset_test(filenames_dataset, batch_size=32)"
   ]
  },
  {
   "cell_type": "code",
   "execution_count": null,
   "metadata": {},
   "outputs": [],
   "source": [
    "timeit(test_ds, steps=20000, batch_size=32)"
   ]
  },
  {
   "cell_type": "markdown",
   "metadata": {},
   "source": [
    "With this new approach we could improve by ~15% the throughput performance of our input pipeline, reaching ~2300 images/sec."
   ]
  }
 ],
 "metadata": {
  "kernelspec": {
   "display_name": "Python 3",
   "language": "python",
   "name": "python3"
  },
  "language_info": {
   "codemirror_mode": {
    "name": "ipython",
    "version": 3
   },
   "file_extension": ".py",
   "mimetype": "text/x-python",
   "name": "python",
   "nbconvert_exporter": "python",
   "pygments_lexer": "ipython3",
   "version": "3.7.6"
  }
 },
 "nbformat": 4,
 "nbformat_minor": 4
}
