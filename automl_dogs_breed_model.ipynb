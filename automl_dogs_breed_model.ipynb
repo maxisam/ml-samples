{
 "cells": [
  {
   "cell_type": "markdown",
   "metadata": {},
   "source": [
    "# AutoML Vision for Classification\n",
    "\n",
    "The following code generates a CSV file from a set of images uploaded to Google Cloud Storage. \\\n",
    "This quick recipe uses the Stanford Dogs Dataset [1] with ~20000 images and 120 classes. The goal is to creare a classifier for each dog breed.\n",
    "\n",
    "Fisrt we need to create a bucket for our images:\n",
    "> gsutil mb -p project-id -c regional -l us-central1 gs://project-id-vcm/\n",
    "\n",
    "Replace \"projectid\" with the name of your project.\\\n",
    "Copy the images to your new bucket, like the example bellow:\n",
    "> gsutil -m cp -R gs://cloud-ml-data/img/flower_photos/ gs://${BUCKET}/img/\n",
    "\n",
    "If the images are in your local computer, just point to your folders with the images.\\\n",
    "\n",
    "[1] https://www.kaggle.com/jessicali9530/stanford-dogs-dataset"
   ]
  },
  {
   "cell_type": "code",
   "execution_count": 44,
   "metadata": {},
   "outputs": [],
   "source": [
    "import tensorflow as tf\n",
    "import numpy as np"
   ]
  },
  {
   "cell_type": "code",
   "execution_count": 66,
   "metadata": {},
   "outputs": [],
   "source": [
    "import csv"
   ]
  },
  {
   "cell_type": "code",
   "execution_count": 45,
   "metadata": {},
   "outputs": [],
   "source": [
    "FOLDERS = 'gs://cool-ml-demos-vcm/img/tf-data-pipeline/*'"
   ]
  },
  {
   "cell_type": "code",
   "execution_count": 61,
   "metadata": {},
   "outputs": [],
   "source": [
    "# Get labels from folder's name and create a map to an ID\n",
    "def get_label_map(folders_path: str) -> list:\n",
    "    images = []\n",
    "    \n",
    "    #list folders in this path\n",
    "    folders_name = tf.io.gfile.glob(folders_path)\n",
    "\n",
    "    for folder in folders_name:\n",
    "        label = folder.split(sep='/')[-1].split('-',1)[1]\n",
    "        sub_folder = tf.io.gfile.glob(folder + '/*')\n",
    "        \n",
    "        for image in sub_folder:\n",
    "            images.append([image + ',' + label])\n",
    "            \n",
    "    return images"
   ]
  },
  {
   "cell_type": "code",
   "execution_count": 62,
   "metadata": {},
   "outputs": [],
   "source": [
    "images = get_label_map(FOLDERS)"
   ]
  },
  {
   "cell_type": "code",
   "execution_count": 67,
   "metadata": {},
   "outputs": [],
   "source": [
    "with open('images.csv', 'w', newline='') as file:\n",
    "    writer = csv.writer(file)\n",
    "    writer.writerows(images)"
   ]
  },
  {
   "cell_type": "code",
   "execution_count": 68,
   "metadata": {},
   "outputs": [
    {
     "name": "stdout",
     "output_type": "stream",
     "text": [
      "[['gs://cool-ml-demos-vcm/img/tf-data-pipeline/n02085620-Chihuahua/n02085620_10074.jpg,Chihuahua'], ['gs://cool-ml-demos-vcm/img/tf-data-pipeline/n02085620-Chihuahua/n02085620_10131.jpg,Chihuahua'], ['gs://cool-ml-demos-vcm/img/tf-data-pipeline/n02085620-Chihuahua/n02085620_10621.jpg,Chihuahua'], ['gs://cool-ml-demos-vcm/img/tf-data-pipeline/n02085620-Chihuahua/n02085620_1073.jpg,Chihuahua'], ['gs://cool-ml-demos-vcm/img/tf-data-pipeline/n02085620-Chihuahua/n02085620_10976.jpg,Chihuahua'], ['gs://cool-ml-demos-vcm/img/tf-data-pipeline/n02085620-Chihuahua/n02085620_11140.jpg,Chihuahua'], ['gs://cool-ml-demos-vcm/img/tf-data-pipeline/n02085620-Chihuahua/n02085620_11238.jpg,Chihuahua'], ['gs://cool-ml-demos-vcm/img/tf-data-pipeline/n02085620-Chihuahua/n02085620_11258.jpg,Chihuahua'], ['gs://cool-ml-demos-vcm/img/tf-data-pipeline/n02085620-Chihuahua/n02085620_11337.jpg,Chihuahua'], ['gs://cool-ml-demos-vcm/img/tf-data-pipeline/n02085620-Chihuahua/n02085620_11477.jpg,Chihuahua']]\n"
     ]
    }
   ],
   "source": [
    "print(images[:10])"
   ]
  },
  {
   "cell_type": "markdown",
   "metadata": {},
   "source": [
    "Now creat"
   ]
  }
 ],
 "metadata": {
  "kernelspec": {
   "display_name": "Python 3",
   "language": "python",
   "name": "python3"
  },
  "language_info": {
   "codemirror_mode": {
    "name": "ipython",
    "version": 3
   },
   "file_extension": ".py",
   "mimetype": "text/x-python",
   "name": "python",
   "nbconvert_exporter": "python",
   "pygments_lexer": "ipython3",
   "version": "3.7.6"
  }
 },
 "nbformat": 4,
 "nbformat_minor": 4
}
